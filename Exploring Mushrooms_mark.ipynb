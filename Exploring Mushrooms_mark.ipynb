{
 "cells": [
  {
   "cell_type": "markdown",
   "id": "55ab3031",
   "metadata": {},
   "source": [
    "# Exploring Mushrooms"
   ]
  },
  {
   "cell_type": "markdown",
   "id": "89b52940",
   "metadata": {},
   "source": [
    "When asked to think of a mushroom, you might imagine the following:\n",
    "\n",
    "![this shows a photo of some generic button mushrooms in a forest.](https://static-assets.codecademy.com/Paths/data-analyst-career-path/mushroom-analysis-project/generic_mushroom.jpg)\n",
    "\n",
    "It's a beige, convex mushroom top with a uniform, thick stem. Maybe you thought of it cut up on a slice of delicious pizza or braised with sauce over rice. Regardless, you most likely did not consider this:\n",
    "\n",
    "![A photo of some beautiful mushrooms in a forest. They do not have the signature \"mushroom top\" and have visually appealing grooves that make them look almost like floral.](https://static-assets.codecademy.com/Paths/data-analyst-career-path/mushroom-analysis-project/pretty_mushroom.jpg)\n",
    "\n",
    "Mushrooms exist in a variety of different colors, shapes, sizes, textures, etc. In this project, you will analyze an extensive mushroom dataset from [UCI](https://archive.ics.uci.edu/ml/datasets/Mushroom) using bar charts and acquaint yourself with the diverse array of mushrooms that exist worldwide."
   ]
  },
  {
   "cell_type": "markdown",
   "id": "872836d9",
   "metadata": {},
   "source": [
    "## Looking Over the Data"
   ]
  },
  {
   "cell_type": "markdown",
   "id": "2ad38a3e",
   "metadata": {},
   "source": [
    "1. Take a look at the code block below where we've loaded **mushroom_data.csv**. It contains 23 columns of data describing thousands of mushrooms. In the output below the code block, data about five different mushrooms is shown.\n",
    "\n",
    "   Read through this table to get a sense of the type(s) of variables in the data and the structure of the table. It may also be helpful to read through the information on [Kaggle](https://www.kaggle.com/uciml/mushroom-classification).\n",
    "   \n",
    "   Before you move on to plotting any of this data, answer the following questions:\n",
    "   * What type(s) of variables does **mushroom_data.csv** contain?\n",
    "   * How many of the variables can we visualize effectively with a bar graph?\n",
    "   \n",
    "   View **Exploring Mushrooms_Solution.ipynb** to see our answers."
   ]
  },
  {
   "cell_type": "code",
   "execution_count": 2,
   "id": "21c69dae",
   "metadata": {},
   "outputs": [
    {
     "name": "stdout",
     "output_type": "stream",
     "text": [
      "       Class Cap Shape Cap Surface Cap Color  Bruises     Odor  \\\n",
      "0  Poisonous    Convex      Smooth     Brown     True  Pungent   \n",
      "1     Edible    Convex      Smooth    Yellow     True   Almond   \n",
      "2     Edible      Bell      Smooth     White     True    Anise   \n",
      "3  Poisonous    Convex       Scaly     White     True  Pungent   \n",
      "4     Edible    Convex      Smooth      Gray    False     None   \n",
      "\n",
      "  Gill Attachment Gill Spacing Gill Size Gill Color  ...  \\\n",
      "0            Free        Close    Narrow      Black  ...   \n",
      "1            Free        Close     Broad      Black  ...   \n",
      "2            Free        Close     Broad      Brown  ...   \n",
      "3            Free        Close    Narrow      Brown  ...   \n",
      "4            Free      Crowded     Broad      Black  ...   \n",
      "\n",
      "  Stalk Surface Below Ring Stalk Color Above Ring Stalk Color Below Ring  \\\n",
      "0                   Smooth                  White                  White   \n",
      "1                   Smooth                  White                  White   \n",
      "2                   Smooth                  White                  White   \n",
      "3                   Smooth                  White                  White   \n",
      "4                   Smooth                  White                  White   \n",
      "\n",
      "  Veil Type Veil Color Ring Number   Ring Type Spore Print Color Population  \\\n",
      "0   Partial      White         One     Pendant             Black  Scattered   \n",
      "1   Partial      White         One     Pendant             Brown   Numerous   \n",
      "2   Partial      White         One     Pendant             Brown   Numerous   \n",
      "3   Partial      White         One     Pendant             Black  Scattered   \n",
      "4   Partial      White         One  Evanescent             Brown   Abundant   \n",
      "\n",
      "   Habitat  \n",
      "0    Urban  \n",
      "1  Grasses  \n",
      "2  Meadows  \n",
      "3    Urban  \n",
      "4  Grasses  \n",
      "\n",
      "[5 rows x 23 columns]\n"
     ]
    }
   ],
   "source": [
    "import matplotlib.pyplot as plt\n",
    "import pandas as pd\n",
    "import seaborn as sns\n",
    "\n",
    "# load in the data\n",
    "df = pd.read_csv(\"mushroom_data.csv\")\n",
    "print(df.head())"
   ]
  },
  {
   "cell_type": "markdown",
   "id": "4a3b539d",
   "metadata": {},
   "source": [
    "2. There are 23 variables in this dataset (one for each column). One of them (the `Bruises` variable) has `True` or `False` responses. This will create problems when we try to plot this column later on. \n",
    "\n",
    "   One way we can fix this issue is by converting each `True` and `False` value to a string. Iterate through the elements in the `Bruises` variable and convert each value to a string using the `str()` method.\n",
    "   \n",
    "   Now, all our variables are of `object` types, which means we can graph them. Graphing each one individually would be tedious; luckily, you will use loops.\n",
    "\n",
    "   If you look at the code block below, you will see an attribute called `columns`. This attribute returns the name of each variable in **mushroom_data.csv**.\n",
    "   - Create a loop that traverses each `column` in the `columns` list.\n",
    "   - Print each `column` in `columns` while iterating through the loop. This is to check that your `for` loop is working correctly."
   ]
  },
  {
   "cell_type": "code",
   "execution_count": 8,
   "id": "2d33b889",
   "metadata": {},
   "outputs": [
    {
     "name": "stderr",
     "output_type": "stream",
     "text": [
      "<ipython-input-8-8bfb9f66f93f>:3: SettingWithCopyWarning: \n",
      "A value is trying to be set on a copy of a slice from a DataFrame\n",
      "\n",
      "See the caveats in the documentation: https://pandas.pydata.org/pandas-docs/stable/user_guide/indexing.html#returning-a-view-versus-a-copy\n",
      "  df['Bruises'][i] = str(df['Bruises'][i])\n"
     ]
    }
   ],
   "source": [
    "#Convert True/False in Bruises column to str() in the dataframe df\n",
    "for i in range(0, len(df['Bruises'])):\n",
    "    df['Bruises'][i] = str(df['Bruises'][i])\n",
    "# list of all column headers\n",
    "columns = df.columns.tolist() # Was already converted to a list and saved\n",
    "#for column in columns:\n",
    "    #print(column)\n"
   ]
  },
  {
   "cell_type": "markdown",
   "id": "98bae09a",
   "metadata": {},
   "source": [
    "3. In the output above, you should see 23 column names pop up starting with `class` and ending with `habitat`.\n",
    "\n",
    "   Great! Your `for` loop is working, so feel free to comment out your print statement.\n",
    "   \n",
    "   You can now plot your data using the `.countplot()` method from the seaborn library. Follow these steps:\n",
    "   - Call `.countplot()` in the `for` loop\n",
    "   - Use `column` and the `df` pandas DataFrame to graph the value counts of each variable in **mushroom_data.csv**.\n",
    "   \n",
    "   Please wait until the next task to use `plt.show()`."
   ]
  },
  {
   "cell_type": "code",
   "execution_count": null,
   "id": "59d0990d",
   "metadata": {},
   "outputs": [],
   "source": [
    "# columns = df.columns.tolist()\n",
    "# for i in columns:\n",
    "#     sns.countplot(df, order=column)"
   ]
  },
  {
   "cell_type": "markdown",
   "id": "d9789bec",
   "metadata": {},
   "source": [
    "4. At the end of your `for` loop, add the following lines of code to show your plots:\n",
    "\n",
    "   ```py\n",
    "   plt.show()\n",
    "   plt.clf()\n",
    "   ```\n",
    "   \n",
    "   The `.show()` Matplotlib method should look familiar from the previous lesson, but [.clf()](https://matplotlib.org/3.1.1/api/_as_gen/matplotlib.pyplot.clf.html) might be unfamiliar. This method is also from the Matplotlib library. It clears any previous figure formatting. This will keep any graphs you are plotting from bunching up on each other. Instead, your plots will be neatly stacked on top of each other with spacing ideal for viewing."
   ]
  },
  {
   "cell_type": "code",
   "execution_count": 12,
   "id": "6b007db3",
   "metadata": {},
   "outputs": [],
   "source": [
    "# columns = df.columns.tolist()\n",
    "# for column in columns:\n",
    "#     sns.countplot(data=df, x=column)\n",
    "#     plt.show()\n",
    "#     plt.clf()"
   ]
  },
  {
   "cell_type": "markdown",
   "id": "a9380c21",
   "metadata": {},
   "source": [
    "5. After using `plt.show()` and `plt.clf()`, 23 plots should appear in the output below the previous code block. Scroll through each of the graphs, and see what sort of trends you immediately see.\n",
    "   - What variables have an obvious mode?\n",
    "   - Do any of them have a notably diverse array of values?\n",
    "   - What habitat are you most likely to find mushrooms in?\n",
    "   \n",
    "   What questions did you have before seeing the graphs? What questions are popping up now that you see them?\n",
    "   \n",
    "   In the next few steps, you will clean up the graphs and make them more readable and useful for finding patterns."
   ]
  },
  {
   "cell_type": "markdown",
   "id": "36b039fe",
   "metadata": {},
   "source": [
    "## Cleaning the Bar Graphs"
   ]
  },
  {
   "cell_type": "markdown",
   "id": "7e723006",
   "metadata": {},
   "source": [
    "6. As you scroll through the graphs, you may notice some imperfections. For example, some of the x-axis labels overlap each other. The font size for the labels along the x-axis is also pretty small, making them tough to read.\n",
    "\n",
    "   Let's fix these up with two lines of code.\n",
    "   \n",
    "   Following your `.countplot()` method, add the following two lines of code in your `for` loop:\n",
    "   ```py\n",
    "   # rotates the value labels slightly so they don't overlap, also slightly increases font size\n",
    "   plt.xticks(rotation=30, fontsize=10)\n",
    "   # increases the variable label font size slightly to increase readability\n",
    "   plt.xlabel(column, fontsize=12)\n",
    "   ```"
   ]
  },
  {
   "cell_type": "code",
   "execution_count": 14,
   "id": "538f90c5",
   "metadata": {},
   "outputs": [],
   "source": [
    "# columns = df.columns.tolist()\n",
    "# for column in columns:\n",
    "#     sns.countplot(data=df, x=column)\n",
    "#     plt.xticks(rotation=30, fontsize=10)\n",
    "#     plt.xlabel(column, fontsize=12)\n",
    "#     plt.show()\n",
    "#     plt.clf()"
   ]
  },
  {
   "cell_type": "markdown",
   "id": "705fc58d",
   "metadata": {},
   "source": [
    "7. One more thing you can do to increase readability is to add an informative title. Using `.title()` from the Matplotlib library, give your graph the following title:\n",
    "\n",
    "   ```\n",
    "   {Variable Name} Value Counts\n",
    "   ```\n",
    "   \n",
    "   Use `column` to capture each column name. Be sure to call this method after `.countplot()` inside of your `for` loop."
   ]
  },
  {
   "cell_type": "code",
   "execution_count": 18,
   "id": "8cf51de4",
   "metadata": {},
   "outputs": [],
   "source": [
    "# columns = df.columns.tolist()\n",
    "# for column in columns:\n",
    "#     sns.countplot(data=df, x=column)\n",
    "#     plt.xticks(rotation=30, fontsize=10)\n",
    "#     plt.xlabel(column, fontsize=12)\n",
    "#     plt.title(column + \" Value Counts\")\n",
    "#     plt.show()\n",
    "#     plt.clf()"
   ]
  },
  {
   "cell_type": "markdown",
   "id": "704bcb21",
   "metadata": {},
   "source": [
    "## Ordering the Bars for Analysis"
   ]
  },
  {
   "cell_type": "markdown",
   "id": "15ec59fe",
   "metadata": {},
   "source": [
    "8. The graphs are readable, but you can take it another step further.\n",
    "   - Add the `order` parameter to your `.countplot()` method.\n",
    "   - Set the parameter to that the value counts in each column are in descending order.\n",
    "   \n",
    "   You will need to use the `.value_counts()` pandas method and the `.index` pandas object."
   ]
  },
  {
   "cell_type": "code",
   "execution_count": 23,
   "id": "bc4b5f42",
   "metadata": {},
   "outputs": [
    {
     "data": {
      "image/png": "[encoded data removed]",
      "text/plain": [
       "<Figure size 432x288 with 1 Axes>"
      ]
     },
     "metadata": {
      "needs_background": "light"
     },
     "output_type": "display_data"
    },
    {
     "data": {
      "image/png": "[encoded data removed]",
      "text/plain": [
       "<Figure size 432x288 with 1 Axes>"
      ]
     },
     "metadata": {
      "needs_background": "light"
     },
     "output_type": "display_data"
    },
    {
     "data": {
      "image/png": "[encoded data removed]",
      "text/plain": [
       "<Figure size 432x288 with 1 Axes>"
      ]
     },
     "metadata": {
      "needs_background": "light"
     },
     "output_type": "display_data"
    },
    {
     "data": {
      "image/png": "[encoded data removed]",
      "text/plain": [
       "<Figure size 432x288 with 1 Axes>"
      ]
     },
     "metadata": {
      "needs_background": "light"
     },
     "output_type": "display_data"
    },
    {
     "ename": "ValueError",
     "evalue": "The truth value of a Series is ambiguous. Use a.empty, a.bool(), a.item(), a.any() or a.all().",
     "output_type": "error",
     "traceback": [
      "\u001b[1;31m---------------------------------------------------------------------------\u001b[0m",
      "\u001b[1;31mValueError\u001b[0m                                Traceback (most recent call last)",
      "\u001b[1;32m<ipython-input-23-557ff8904333>\u001b[0m in \u001b[0;36m<module>\u001b[1;34m\u001b[0m\n\u001b[0;32m      8\u001b[0m     \u001b[1;31m# The \"order\" atrribute needs the dataframe column as input (whatever datatype that may be)\u001b[0m\u001b[1;33m\u001b[0m\u001b[1;33m\u001b[0m\u001b[1;33m\u001b[0m\u001b[0m\n\u001b[0;32m      9\u001b[0m     \u001b[1;31m# Note that two changes are required: x=df[column]   and order =df[column]...\u001b[0m\u001b[1;33m\u001b[0m\u001b[1;33m\u001b[0m\u001b[1;33m\u001b[0m\u001b[0m\n\u001b[1;32m---> 10\u001b[1;33m     \u001b[0msns\u001b[0m\u001b[1;33m.\u001b[0m\u001b[0mcountplot\u001b[0m\u001b[1;33m(\u001b[0m\u001b[0mdata\u001b[0m\u001b[1;33m=\u001b[0m\u001b[0mdf\u001b[0m\u001b[1;33m,\u001b[0m \u001b[0mx\u001b[0m\u001b[1;33m=\u001b[0m\u001b[0mdf\u001b[0m\u001b[1;33m[\u001b[0m\u001b[0mcolumn\u001b[0m\u001b[1;33m]\u001b[0m\u001b[1;33m,\u001b[0m \u001b[0morder\u001b[0m\u001b[1;33m=\u001b[0m\u001b[0mdf\u001b[0m\u001b[1;33m[\u001b[0m\u001b[0mcolumn\u001b[0m\u001b[1;33m]\u001b[0m\u001b[1;33m.\u001b[0m\u001b[0mvalue_counts\u001b[0m\u001b[1;33m(\u001b[0m\u001b[1;33m)\u001b[0m\u001b[1;33m.\u001b[0m\u001b[0mindex\u001b[0m\u001b[1;33m)\u001b[0m\u001b[1;33m\u001b[0m\u001b[1;33m\u001b[0m\u001b[0m\n\u001b[0m\u001b[0;32m     11\u001b[0m     \u001b[0mplt\u001b[0m\u001b[1;33m.\u001b[0m\u001b[0mxticks\u001b[0m\u001b[1;33m(\u001b[0m\u001b[0mrotation\u001b[0m\u001b[1;33m=\u001b[0m\u001b[1;36m30\u001b[0m\u001b[1;33m,\u001b[0m \u001b[0mfontsize\u001b[0m\u001b[1;33m=\u001b[0m\u001b[1;36m10\u001b[0m\u001b[1;33m)\u001b[0m\u001b[1;33m\u001b[0m\u001b[1;33m\u001b[0m\u001b[0m\n\u001b[0;32m     12\u001b[0m     \u001b[0mplt\u001b[0m\u001b[1;33m.\u001b[0m\u001b[0mxlabel\u001b[0m\u001b[1;33m(\u001b[0m\u001b[0mcolumn\u001b[0m\u001b[1;33m,\u001b[0m \u001b[0mfontsize\u001b[0m\u001b[1;33m=\u001b[0m\u001b[1;36m12\u001b[0m\u001b[1;33m)\u001b[0m\u001b[1;33m\u001b[0m\u001b[1;33m\u001b[0m\u001b[0m\n",
      "\u001b[1;32mc:\\Users\\mal\\Anaconda3\\lib\\site-packages\\seaborn\\_decorators.py\u001b[0m in \u001b[0;36minner_f\u001b[1;34m(*args, **kwargs)\u001b[0m\n\u001b[0;32m     44\u001b[0m             )\n\u001b[0;32m     45\u001b[0m         \u001b[0mkwargs\u001b[0m\u001b[1;33m.\u001b[0m\u001b[0mupdate\u001b[0m\u001b[1;33m(\u001b[0m\u001b[1;33m{\u001b[0m\u001b[0mk\u001b[0m\u001b[1;33m:\u001b[0m \u001b[0marg\u001b[0m \u001b[1;32mfor\u001b[0m \u001b[0mk\u001b[0m\u001b[1;33m,\u001b[0m \u001b[0marg\u001b[0m \u001b[1;32min\u001b[0m \u001b[0mzip\u001b[0m\u001b[1;33m(\u001b[0m\u001b[0msig\u001b[0m\u001b[1;33m.\u001b[0m\u001b[0mparameters\u001b[0m\u001b[1;33m,\u001b[0m \u001b[0margs\u001b[0m\u001b[1;33m)\u001b[0m\u001b[1;33m}\u001b[0m\u001b[1;33m)\u001b[0m\u001b[1;33m\u001b[0m\u001b[1;33m\u001b[0m\u001b[0m\n\u001b[1;32m---> 46\u001b[1;33m         \u001b[1;32mreturn\u001b[0m \u001b[0mf\u001b[0m\u001b[1;33m(\u001b[0m\u001b[1;33m**\u001b[0m\u001b[0mkwargs\u001b[0m\u001b[1;33m)\u001b[0m\u001b[1;33m\u001b[0m\u001b[1;33m\u001b[0m\u001b[0m\n\u001b[0m\u001b[0;32m     47\u001b[0m     \u001b[1;32mreturn\u001b[0m \u001b[0minner_f\u001b[0m\u001b[1;33m\u001b[0m\u001b[1;33m\u001b[0m\u001b[0m\n\u001b[0;32m     48\u001b[0m \u001b[1;33m\u001b[0m\u001b[0m\n",
      "\u001b[1;32mc:\\Users\\mal\\Anaconda3\\lib\\site-packages\\seaborn\\categorical.py\u001b[0m in \u001b[0;36mcountplot\u001b[1;34m(x, y, hue, data, order, hue_order, orient, color, palette, saturation, dodge, ax, **kwargs)\u001b[0m\n\u001b[0;32m   3593\u001b[0m         \u001b[1;32mraise\u001b[0m \u001b[0mValueError\u001b[0m\u001b[1;33m(\u001b[0m\u001b[1;34m\"Cannot pass values for both `x` and `y`\"\u001b[0m\u001b[1;33m)\u001b[0m\u001b[1;33m\u001b[0m\u001b[1;33m\u001b[0m\u001b[0m\n\u001b[0;32m   3594\u001b[0m \u001b[1;33m\u001b[0m\u001b[0m\n\u001b[1;32m-> 3595\u001b[1;33m     plotter = _CountPlotter(\n\u001b[0m\u001b[0;32m   3596\u001b[0m         \u001b[0mx\u001b[0m\u001b[1;33m,\u001b[0m \u001b[0my\u001b[0m\u001b[1;33m,\u001b[0m \u001b[0mhue\u001b[0m\u001b[1;33m,\u001b[0m \u001b[0mdata\u001b[0m\u001b[1;33m,\u001b[0m \u001b[0morder\u001b[0m\u001b[1;33m,\u001b[0m \u001b[0mhue_order\u001b[0m\u001b[1;33m,\u001b[0m\u001b[1;33m\u001b[0m\u001b[1;33m\u001b[0m\u001b[0m\n\u001b[0;32m   3597\u001b[0m         \u001b[0mestimator\u001b[0m\u001b[1;33m,\u001b[0m \u001b[0mci\u001b[0m\u001b[1;33m,\u001b[0m \u001b[0mn_boot\u001b[0m\u001b[1;33m,\u001b[0m \u001b[0munits\u001b[0m\u001b[1;33m,\u001b[0m \u001b[0mseed\u001b[0m\u001b[1;33m,\u001b[0m\u001b[1;33m\u001b[0m\u001b[1;33m\u001b[0m\u001b[0m\n",
      "\u001b[1;32mc:\\Users\\mal\\Anaconda3\\lib\\site-packages\\seaborn\\categorical.py\u001b[0m in \u001b[0;36m__init__\u001b[1;34m(self, x, y, hue, data, order, hue_order, estimator, ci, n_boot, units, seed, orient, color, palette, saturation, errcolor, errwidth, capsize, dodge)\u001b[0m\n\u001b[0;32m   1582\u001b[0m                  errwidth, capsize, dodge):\n\u001b[0;32m   1583\u001b[0m         \u001b[1;34m\"\"\"Initialize the plotter.\"\"\"\u001b[0m\u001b[1;33m\u001b[0m\u001b[1;33m\u001b[0m\u001b[0m\n\u001b[1;32m-> 1584\u001b[1;33m         self.establish_variables(x, y, hue, data, orient,\n\u001b[0m\u001b[0;32m   1585\u001b[0m                                  order, hue_order, units)\n\u001b[0;32m   1586\u001b[0m         \u001b[0mself\u001b[0m\u001b[1;33m.\u001b[0m\u001b[0mestablish_colors\u001b[0m\u001b[1;33m(\u001b[0m\u001b[0mcolor\u001b[0m\u001b[1;33m,\u001b[0m \u001b[0mpalette\u001b[0m\u001b[1;33m,\u001b[0m \u001b[0msaturation\u001b[0m\u001b[1;33m)\u001b[0m\u001b[1;33m\u001b[0m\u001b[1;33m\u001b[0m\u001b[0m\n",
      "\u001b[1;32mc:\\Users\\mal\\Anaconda3\\lib\\site-packages\\seaborn\\categorical.py\u001b[0m in \u001b[0;36mestablish_variables\u001b[1;34m(self, x, y, hue, data, orient, order, hue_order, units)\u001b[0m\n\u001b[0;32m    154\u001b[0m \u001b[1;33m\u001b[0m\u001b[0m\n\u001b[0;32m    155\u001b[0m             \u001b[1;31m# Figure out the plotting orientation\u001b[0m\u001b[1;33m\u001b[0m\u001b[1;33m\u001b[0m\u001b[1;33m\u001b[0m\u001b[0m\n\u001b[1;32m--> 156\u001b[1;33m             orient = infer_orient(\n\u001b[0m\u001b[0;32m    157\u001b[0m                 \u001b[0mx\u001b[0m\u001b[1;33m,\u001b[0m \u001b[0my\u001b[0m\u001b[1;33m,\u001b[0m \u001b[0morient\u001b[0m\u001b[1;33m,\u001b[0m \u001b[0mrequire_numeric\u001b[0m\u001b[1;33m=\u001b[0m\u001b[0mself\u001b[0m\u001b[1;33m.\u001b[0m\u001b[0mrequire_numeric\u001b[0m\u001b[1;33m\u001b[0m\u001b[1;33m\u001b[0m\u001b[0m\n\u001b[0;32m    158\u001b[0m             )\n",
      "\u001b[1;32mc:\\Users\\mal\\Anaconda3\\lib\\site-packages\\seaborn\\_core.py\u001b[0m in \u001b[0;36minfer_orient\u001b[1;34m(x, y, orient, require_numeric)\u001b[0m\n\u001b[0;32m   1302\u001b[0m     \"\"\"\n\u001b[0;32m   1303\u001b[0m \u001b[1;33m\u001b[0m\u001b[0m\n\u001b[1;32m-> 1304\u001b[1;33m     \u001b[0mx_type\u001b[0m \u001b[1;33m=\u001b[0m \u001b[1;32mNone\u001b[0m \u001b[1;32mif\u001b[0m \u001b[0mx\u001b[0m \u001b[1;32mis\u001b[0m \u001b[1;32mNone\u001b[0m \u001b[1;32melse\u001b[0m \u001b[0mvariable_type\u001b[0m\u001b[1;33m(\u001b[0m\u001b[0mx\u001b[0m\u001b[1;33m)\u001b[0m\u001b[1;33m\u001b[0m\u001b[1;33m\u001b[0m\u001b[0m\n\u001b[0m\u001b[0;32m   1305\u001b[0m     \u001b[0my_type\u001b[0m \u001b[1;33m=\u001b[0m \u001b[1;32mNone\u001b[0m \u001b[1;32mif\u001b[0m \u001b[0my\u001b[0m \u001b[1;32mis\u001b[0m \u001b[1;32mNone\u001b[0m \u001b[1;32melse\u001b[0m \u001b[0mvariable_type\u001b[0m\u001b[1;33m(\u001b[0m\u001b[0my\u001b[0m\u001b[1;33m)\u001b[0m\u001b[1;33m\u001b[0m\u001b[1;33m\u001b[0m\u001b[0m\n\u001b[0;32m   1306\u001b[0m \u001b[1;33m\u001b[0m\u001b[0m\n",
      "\u001b[1;32mc:\\Users\\mal\\Anaconda3\\lib\\site-packages\\seaborn\\_core.py\u001b[0m in \u001b[0;36mvariable_type\u001b[1;34m(vector, boolean_type)\u001b[0m\n\u001b[0;32m   1220\u001b[0m \u001b[1;33m\u001b[0m\u001b[0m\n\u001b[0;32m   1221\u001b[0m     \u001b[1;31m# Special-case all-na data, which is always \"numeric\"\u001b[0m\u001b[1;33m\u001b[0m\u001b[1;33m\u001b[0m\u001b[1;33m\u001b[0m\u001b[0m\n\u001b[1;32m-> 1222\u001b[1;33m     \u001b[1;32mif\u001b[0m \u001b[0mpd\u001b[0m\u001b[1;33m.\u001b[0m\u001b[0misna\u001b[0m\u001b[1;33m(\u001b[0m\u001b[0mvector\u001b[0m\u001b[1;33m)\u001b[0m\u001b[1;33m.\u001b[0m\u001b[0mall\u001b[0m\u001b[1;33m(\u001b[0m\u001b[1;33m)\u001b[0m\u001b[1;33m:\u001b[0m\u001b[1;33m\u001b[0m\u001b[1;33m\u001b[0m\u001b[0m\n\u001b[0m\u001b[0;32m   1223\u001b[0m         \u001b[1;32mreturn\u001b[0m \u001b[1;34m\"numeric\"\u001b[0m\u001b[1;33m\u001b[0m\u001b[1;33m\u001b[0m\u001b[0m\n\u001b[0;32m   1224\u001b[0m \u001b[1;33m\u001b[0m\u001b[0m\n",
      "\u001b[1;32mc:\\Users\\mal\\Anaconda3\\lib\\site-packages\\pandas\\core\\generic.py\u001b[0m in \u001b[0;36m__nonzero__\u001b[1;34m(self)\u001b[0m\n\u001b[0;32m   1440\u001b[0m     \u001b[1;33m@\u001b[0m\u001b[0mfinal\u001b[0m\u001b[1;33m\u001b[0m\u001b[1;33m\u001b[0m\u001b[0m\n\u001b[0;32m   1441\u001b[0m     \u001b[1;32mdef\u001b[0m \u001b[0m__nonzero__\u001b[0m\u001b[1;33m(\u001b[0m\u001b[0mself\u001b[0m\u001b[1;33m)\u001b[0m\u001b[1;33m:\u001b[0m\u001b[1;33m\u001b[0m\u001b[1;33m\u001b[0m\u001b[0m\n\u001b[1;32m-> 1442\u001b[1;33m         raise ValueError(\n\u001b[0m\u001b[0;32m   1443\u001b[0m             \u001b[1;34mf\"The truth value of a {type(self).__name__} is ambiguous. \"\u001b[0m\u001b[1;33m\u001b[0m\u001b[1;33m\u001b[0m\u001b[0m\n\u001b[0;32m   1444\u001b[0m             \u001b[1;34m\"Use a.empty, a.bool(), a.item(), a.any() or a.all().\"\u001b[0m\u001b[1;33m\u001b[0m\u001b[1;33m\u001b[0m\u001b[0m\n",
      "\u001b[1;31mValueError\u001b[0m: The truth value of a Series is ambiguous. Use a.empty, a.bool(), a.item(), a.any() or a.all()."
     ]
    },
    {
     "data": {
      "text/plain": [
       "<Figure size 432x288 with 0 Axes>"
      ]
     },
     "metadata": {},
     "output_type": "display_data"
    }
   ],
   "source": [
    "columns = df.columns.tolist()\n",
    "for column in columns:\n",
    "    # sns.countplot(data=df, x=column, order=column.value_counts().index)\n",
    "    # The above gives an error: AttributeError: 'str' object has no attribute 'value_counts'\n",
    "    # In Task 2:\n",
    "    #       columns = df.columns.tolist() # Was already converted to a list and saved\n",
    "    # So the \"columns\" variable is a list of strings.\n",
    "    # The \"order\" atrribute needs the dataframe column as input (whatever datatype that may be)\n",
    "    # Note that two changes are required: x=df[column]   and order =df[column]...\n",
    "    sns.countplot(data=df, x=df[column], order=df[column].value_counts().index)\n",
    "    plt.xticks(rotation=30, fontsize=10)\n",
    "    plt.xlabel(column, fontsize=12)\n",
    "    plt.title(column + \" Value Counts\")\n",
    "    plt.show()\n",
    "    plt.clf()"
   ]
  },
  {
   "cell_type": "markdown",
   "id": "fa0af899",
   "metadata": {},
   "source": [
    "9. Great job! In relatively few lines of code, you have created 23 informative plots. Now that they are titled, labeled clearly, and ordered, you can really dive in on your analysis.\n",
    "\n",
    "   Think about how someone could best use these visualizations. It is easy to tell which features of mushrooms are most common and rare, and we get insights into the variety of mushrooms in the fungi kingdom.\n",
    "   \n",
    "   Spend some time looking over the graphs. Write down exciting insights you find. Here are some examples to get you started:\n",
    "   - It is a roughly equal split between mushrooms that are edible vs. poisonous.\n",
    "   - The majority of mushrooms in this dataset have a scaly surface.\n",
    "   - There are a non-insignificant amount of mushrooms that give off an almond scent?!!!\n",
    "   - Most top surfaces of mushrooms in this dataset are scaly rather than smooth.\n",
    "   \n",
    "   Some of your analysis may also require research into mushroom features for any of the x-labels. We hope you enjoy continuing to explore the world of these fun guys!"
   ]
  },
  {
   "cell_type": "markdown",
   "id": "277b965f",
   "metadata": {},
   "source": [
    "## Extensions"
   ]
  },
  {
   "cell_type": "markdown",
   "id": "45dfde32",
   "metadata": {},
   "source": [
    "10. Feel free to play around with the graphs and customize them any way you want to help in your analysis! Here are some ideas to get yourself started:\n",
    "    * Turn any bar graph with less than six bars into a pie chart (hint: use a conditional statement!).\n",
    "    * Create your bar charts using a list comprehension instead of a `for` loop.\n",
    "    * Change the color theme of your graphs using the seaborn [color](https://seaborn.pydata.org/generated/seaborn.countplot.html) or [palette](https://seaborn.pydata.org/tutorial/color_palettes.html) parameters.\n",
    "    * Remove any graphs you find uninformative.\n",
    "    * Change around the current title or label formatting.\n",
    "    \n",
    "    Happy Coding! :)"
   ]
  },
  {
   "cell_type": "code",
   "execution_count": null,
   "id": "7a901a33",
   "metadata": {},
   "outputs": [],
   "source": []
  },
  {
   "cell_type": "code",
   "execution_count": null,
   "id": "7a2eea2e",
   "metadata": {},
   "outputs": [],
   "source": []
  }
 ],
 "metadata": {
  "kernelspec": {
   "display_name": "Python 3.8.8 ('base')",
   "language": "python",
   "name": "python3"
  },
  "language_info": {
   "codemirror_mode": {
    "name": "ipython",
    "version": 3
   },
   "file_extension": ".py",
   "mimetype": "text/x-python",
   "name": "python",
   "nbconvert_exporter": "python",
   "pygments_lexer": "ipython3",
   "version": "3.8.8"
  },
  "vscode": {
   "interpreter": {
    "hash": "4d6979881df6e222f622e5c452613767b84695145e0c10696727ea7f3c022c7e"
   }
  }
 },
 "nbformat": 4,
 "nbformat_minor": 5
}
